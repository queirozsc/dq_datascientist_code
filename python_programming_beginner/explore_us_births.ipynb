{
 "cells": [
  {
   "cell_type": "markdown",
   "metadata": {
    "collapsed": true
   },
   "source": [
    "# U.S. Births\n",
    "The dataset contains the following columns:\n",
    "+ `[0] year`: Year (1994 to 2003)\n",
    "+ `[1] month`: Month (1 to 12)\n",
    "+ `[2] date_of_month`: Day number of the month (1 to 31)\n",
    "+ `[3] day_of_week`: Day of week (1 to 7)\n",
    "+ `[4] births`: Number of births that day"
   ]
  },
  {
   "cell_type": "code",
   "execution_count": 1,
   "metadata": {
    "collapsed": false
   },
   "outputs": [
    {
     "data": {
      "text/plain": [
       "['year,month,date_of_month,day_of_week,births',\n",
       " '1994,1,1,6,8096',\n",
       " '1994,1,2,7,7772',\n",
       " '1994,1,3,1,10142',\n",
       " '1994,1,4,2,11248',\n",
       " '1994,1,5,3,11053',\n",
       " '1994,1,6,4,11406',\n",
       " '1994,1,7,5,11251',\n",
       " '1994,1,8,6,8653',\n",
       " '1994,1,9,7,7910']"
      ]
     },
     "execution_count": 1,
     "metadata": {},
     "output_type": "execute_result"
    }
   ],
   "source": [
    "f = open(\"US_births_1994-2003_CDC_NCHS.csv\", \"r\")\n",
    "text = f.read()\n",
    "lines = text.split(\"\\n\")\n",
    "lines[0:10]"
   ]
  },
  {
   "cell_type": "code",
   "execution_count": 2,
   "metadata": {
    "collapsed": true
   },
   "outputs": [],
   "source": [
    "def read_csv(file_name):\n",
    "    f = open(file_name, \"r\")\n",
    "    text = f.read()\n",
    "    lines = text.split(\"\\n\")\n",
    "    string_list = lines[1:]\n",
    "    final_list = []\n",
    "    for each in string_list:\n",
    "        int_fields = []\n",
    "        string_fields = each.split(\",\")\n",
    "        for field in string_fields:\n",
    "            int_value = int(field)\n",
    "            int_fields.append(int_value)\n",
    "        final_list.append(int_fields)\n",
    "    return final_list"
   ]
  },
  {
   "cell_type": "code",
   "execution_count": 3,
   "metadata": {
    "collapsed": false
   },
   "outputs": [
    {
     "data": {
      "text/plain": [
       "[[1994, 1, 1, 6, 8096],\n",
       " [1994, 1, 2, 7, 7772],\n",
       " [1994, 1, 3, 1, 10142],\n",
       " [1994, 1, 4, 2, 11248],\n",
       " [1994, 1, 5, 3, 11053],\n",
       " [1994, 1, 6, 4, 11406],\n",
       " [1994, 1, 7, 5, 11251],\n",
       " [1994, 1, 8, 6, 8653],\n",
       " [1994, 1, 9, 7, 7910],\n",
       " [1994, 1, 10, 1, 10498]]"
      ]
     },
     "execution_count": 3,
     "metadata": {},
     "output_type": "execute_result"
    }
   ],
   "source": [
    "cdc_list = read_csv(\"US_births_1994-2003_CDC_NCHS.csv\")\n",
    "cdc_list[0:10]"
   ]
  },
  {
   "cell_type": "code",
   "execution_count": 4,
   "metadata": {
    "collapsed": true
   },
   "outputs": [],
   "source": [
    "def month_births(input_lst):\n",
    "    births_per_month = {}\n",
    "    for each in input_lst:\n",
    "        month = each[1]\n",
    "        births = each[4]\n",
    "        if month in births_per_month:\n",
    "            births_per_month[month] += births\n",
    "        else:\n",
    "            births_per_month[month] = births\n",
    "    return births_per_month"
   ]
  },
  {
   "cell_type": "code",
   "execution_count": 5,
   "metadata": {
    "collapsed": false
   },
   "outputs": [
    {
     "data": {
      "text/plain": [
       "{1: 3232517,\n",
       " 2: 3018140,\n",
       " 3: 3322069,\n",
       " 4: 3185314,\n",
       " 5: 3350907,\n",
       " 6: 3296530,\n",
       " 7: 3498783,\n",
       " 8: 3525858,\n",
       " 9: 3439698,\n",
       " 10: 3378814,\n",
       " 11: 3171647,\n",
       " 12: 3301860}"
      ]
     },
     "execution_count": 5,
     "metadata": {},
     "output_type": "execute_result"
    }
   ],
   "source": [
    "cdc_month_births = month_births(cdc_list)\n",
    "cdc_month_births"
   ]
  },
  {
   "cell_type": "code",
   "execution_count": 6,
   "metadata": {
    "collapsed": true
   },
   "outputs": [],
   "source": [
    "def dow_births(input_lst):\n",
    "    births_per_dow = {}\n",
    "    for each in input_lst:\n",
    "        day_of_week = each[3]\n",
    "        births = each[4]\n",
    "        if day_of_week in births_per_dow:\n",
    "            births_per_dow[day_of_week] += births\n",
    "        else:\n",
    "            births_per_dow[day_of_week] = births\n",
    "    return births_per_dow"
   ]
  },
  {
   "cell_type": "code",
   "execution_count": 7,
   "metadata": {
    "collapsed": false,
    "scrolled": true
   },
   "outputs": [
    {
     "data": {
      "text/plain": [
       "{1: 5789166,\n",
       " 2: 6446196,\n",
       " 3: 6322855,\n",
       " 4: 6288429,\n",
       " 5: 6233657,\n",
       " 6: 4562111,\n",
       " 7: 4079723}"
      ]
     },
     "execution_count": 7,
     "metadata": {},
     "output_type": "execute_result"
    }
   ],
   "source": [
    "cdc_day_births = dow_births(cdc_list)\n",
    "cdc_day_births"
   ]
  },
  {
   "cell_type": "code",
   "execution_count": 8,
   "metadata": {
    "collapsed": true
   },
   "outputs": [],
   "source": [
    "def calc_counts(data, column):\n",
    "    calc_dict = {}\n",
    "    for each in data:\n",
    "        col = each[column]\n",
    "        births = each[4]\n",
    "        if col in calc_dict:\n",
    "            calc_dict[col] += births\n",
    "        else:\n",
    "            calc_dict[col] = births\n",
    "    return calc_dict"
   ]
  },
  {
   "cell_type": "code",
   "execution_count": 9,
   "metadata": {
    "collapsed": false
   },
   "outputs": [
    {
     "data": {
      "text/plain": [
       "{1994: 3952767,\n",
       " 1995: 3899589,\n",
       " 1996: 3891494,\n",
       " 1997: 3880894,\n",
       " 1998: 3941553,\n",
       " 1999: 3959417,\n",
       " 2000: 4058814,\n",
       " 2001: 4025933,\n",
       " 2002: 4021726,\n",
       " 2003: 4089950}"
      ]
     },
     "execution_count": 9,
     "metadata": {},
     "output_type": "execute_result"
    }
   ],
   "source": [
    "cdc_year_births = calc_counts(cdc_list, 0)\n",
    "cdc_year_births"
   ]
  },
  {
   "cell_type": "code",
   "execution_count": 10,
   "metadata": {
    "collapsed": false
   },
   "outputs": [
    {
     "data": {
      "text/plain": [
       "{1: 3232517,\n",
       " 2: 3018140,\n",
       " 3: 3322069,\n",
       " 4: 3185314,\n",
       " 5: 3350907,\n",
       " 6: 3296530,\n",
       " 7: 3498783,\n",
       " 8: 3525858,\n",
       " 9: 3439698,\n",
       " 10: 3378814,\n",
       " 11: 3171647,\n",
       " 12: 3301860}"
      ]
     },
     "execution_count": 10,
     "metadata": {},
     "output_type": "execute_result"
    }
   ],
   "source": [
    "cdc_month_births = calc_counts(cdc_list, 1)\n",
    "cdc_month_births"
   ]
  },
  {
   "cell_type": "code",
   "execution_count": 11,
   "metadata": {
    "collapsed": false
   },
   "outputs": [
    {
     "data": {
      "text/plain": [
       "{1: 1276557,\n",
       " 2: 1288739,\n",
       " 3: 1304499,\n",
       " 4: 1288154,\n",
       " 5: 1299953,\n",
       " 6: 1304474,\n",
       " 7: 1310459,\n",
       " 8: 1312297,\n",
       " 9: 1303292,\n",
       " 10: 1320764,\n",
       " 11: 1314361,\n",
       " 12: 1318437,\n",
       " 13: 1277684,\n",
       " 14: 1320153,\n",
       " 15: 1319171,\n",
       " 16: 1315192,\n",
       " 17: 1324953,\n",
       " 18: 1326855,\n",
       " 19: 1318727,\n",
       " 20: 1324821,\n",
       " 21: 1322897,\n",
       " 22: 1317381,\n",
       " 23: 1293290,\n",
       " 24: 1288083,\n",
       " 25: 1272116,\n",
       " 26: 1284796,\n",
       " 27: 1294395,\n",
       " 28: 1307685,\n",
       " 29: 1223161,\n",
       " 30: 1202095,\n",
       " 31: 746696}"
      ]
     },
     "execution_count": 11,
     "metadata": {},
     "output_type": "execute_result"
    }
   ],
   "source": [
    "cdc_dom_births = calc_counts(cdc_list, 2)\n",
    "cdc_dom_births"
   ]
  },
  {
   "cell_type": "code",
   "execution_count": 12,
   "metadata": {
    "collapsed": false
   },
   "outputs": [
    {
     "data": {
      "text/plain": [
       "{1: 5789166,\n",
       " 2: 6446196,\n",
       " 3: 6322855,\n",
       " 4: 6288429,\n",
       " 5: 6233657,\n",
       " 6: 4562111,\n",
       " 7: 4079723}"
      ]
     },
     "execution_count": 12,
     "metadata": {},
     "output_type": "execute_result"
    }
   ],
   "source": [
    "cdc_dow_births = calc_counts(cdc_list, 3)\n",
    "cdc_dow_births"
   ]
  },
  {
   "cell_type": "code",
   "execution_count": 28,
   "metadata": {
    "collapsed": true
   },
   "outputs": [],
   "source": [
    "def min_max(input_dict):\n",
    "    min_key = list(input_dict.keys())[0]\n",
    "    min_value = input_dict[min_key]\n",
    "    max_key = min_key\n",
    "    max_value = min_value\n",
    "    \n",
    "    for dict_key, dict_val in input_dict.items():\n",
    "        if dict_val < min_value:\n",
    "            min_key = dict_key\n",
    "            min_value = dict_val\n",
    "        if dict_val > max_value:\n",
    "            max_key = dict_key\n",
    "            max_value = dict_val\n",
    "    result = {\n",
    "        \"min\": {min_key: min_value},\n",
    "        \"max\": {max_key: max_value}\n",
    "    }\n",
    "    return result"
   ]
  },
  {
   "cell_type": "code",
   "execution_count": 29,
   "metadata": {
    "collapsed": false
   },
   "outputs": [
    {
     "name": "stdout",
     "output_type": "stream",
     "text": [
      "{'max': {2: 6446196}, 'min': {7: 4079723}}\n"
     ]
    }
   ],
   "source": [
    "print(min_max(cdc_dow_births))"
   ]
  },
  {
   "cell_type": "code",
   "execution_count": 30,
   "metadata": {
    "collapsed": false
   },
   "outputs": [
    {
     "name": "stdout",
     "output_type": "stream",
     "text": [
      "{'max': {18: 1326855}, 'min': {31: 746696}}\n"
     ]
    }
   ],
   "source": [
    "print(min_max(cdc_dom_births))"
   ]
  },
  {
   "cell_type": "code",
   "execution_count": 31,
   "metadata": {
    "collapsed": false
   },
   "outputs": [
    {
     "name": "stdout",
     "output_type": "stream",
     "text": [
      "{'max': {8: 3525858}, 'min': {2: 3018140}}\n"
     ]
    }
   ],
   "source": [
    "print(min_max(cdc_month_births))"
   ]
  },
  {
   "cell_type": "code",
   "execution_count": 32,
   "metadata": {
    "collapsed": false
   },
   "outputs": [
    {
     "name": "stdout",
     "output_type": "stream",
     "text": [
      "{'max': {2003: 4089950}, 'min': {1997: 3880894}}\n"
     ]
    }
   ],
   "source": [
    "print(min_max(cdc_year_births))"
   ]
  },
  {
   "cell_type": "code",
   "execution_count": 40,
   "metadata": {
    "collapsed": false
   },
   "outputs": [],
   "source": [
    "def trend_over_years(data, column, value):\n",
    "    if column == 0:\n",
    "        print('Choose another column to see birth trends over the years')\n",
    "        return\n",
    "    columns = ['year', 'month', 'date_of_month', 'day_of_week', 'births']\n",
    "    trend_dict = {}\n",
    "    trend_dict[columns[column]] = value\n",
    "    births_over_year = {}\n",
    "    for each in data:\n",
    "        if each[column] == value:\n",
    "            year = each[0]\n",
    "            births = each[4]\n",
    "            if year in births_over_year:\n",
    "                births_over_year[year] += births\n",
    "            else:\n",
    "                births_over_year[year] = births\n",
    "    trend_dict[\"trend\"] = births_over_year\n",
    "    return trend_dict"
   ]
  },
  {
   "cell_type": "code",
   "execution_count": 42,
   "metadata": {
    "collapsed": false
   },
   "outputs": [
    {
     "data": {
      "text/plain": [
       "{'day_of_week': 7,\n",
       " 'trend': {1994: 428752,\n",
       "  1995: 425790,\n",
       "  1996: 413336,\n",
       "  1997: 404478,\n",
       "  1998: 407129,\n",
       "  1999: 401991,\n",
       "  2000: 416454,\n",
       "  2001: 397119,\n",
       "  2002: 391375,\n",
       "  2003: 393299}}"
      ]
     },
     "execution_count": 42,
     "metadata": {},
     "output_type": "execute_result"
    }
   ],
   "source": [
    "saturday_births = trend_over_years(cdc_list, 3, 7)\n",
    "saturday_births"
   ]
  },
  {
   "cell_type": "code",
   "execution_count": 45,
   "metadata": {
    "collapsed": false
   },
   "outputs": [
    {
     "data": {
      "text/plain": [
       "{'month': 3,\n",
       " 'trend': {1994: 339736,\n",
       "  1995: 328503,\n",
       "  1996: 322581,\n",
       "  1997: 321212,\n",
       "  1998: 329436,\n",
       "  1999: 332939,\n",
       "  2000: 340553,\n",
       "  2001: 338684,\n",
       "  2002: 331505,\n",
       "  2003: 336920}}"
      ]
     },
     "execution_count": 45,
     "metadata": {},
     "output_type": "execute_result"
    }
   ],
   "source": [
    "march_births = trend_over_years(cdc_list, 1, 3)\n",
    "march_births"
   ]
  },
  {
   "cell_type": "code",
   "execution_count": 46,
   "metadata": {
    "collapsed": false
   },
   "outputs": [
    {
     "data": {
      "text/plain": [
       "{'date_of_month': 27,\n",
       " 'trend': {1994: 127901,\n",
       "  1995: 133076,\n",
       "  1996: 126046,\n",
       "  1997: 121094,\n",
       "  1998: 128560,\n",
       "  1999: 130052,\n",
       "  2000: 135697,\n",
       "  2001: 137393,\n",
       "  2002: 128334,\n",
       "  2003: 126242}}"
      ]
     },
     "execution_count": 46,
     "metadata": {},
     "output_type": "execute_result"
    }
   ],
   "source": [
    "twenty_seventh_births = trend_over_years(cdc_list, 2, 27)\n",
    "twenty_seventh_births"
   ]
  }
 ],
 "metadata": {
  "anaconda-cloud": {},
  "kernelspec": {
   "display_name": "Python 3",
   "language": "python",
   "name": "python3"
  },
  "language_info": {
   "codemirror_mode": {
    "name": "ipython",
    "version": 3
   },
   "file_extension": ".py",
   "mimetype": "text/x-python",
   "name": "python",
   "nbconvert_exporter": "python",
   "pygments_lexer": "ipython3",
   "version": "3.4.3"
  }
 },
 "nbformat": 4,
 "nbformat_minor": 1
}
